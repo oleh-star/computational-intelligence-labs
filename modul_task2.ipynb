{
 "cells": [
  {
   "cell_type": "markdown",
   "id": "d5253209",
   "metadata": {},
   "source": [
    "### Імпорт необхідних бібліотек"
   ]
  },
  {
   "cell_type": "code",
   "execution_count": 5,
   "id": "0207d784",
   "metadata": {},
   "outputs": [],
   "source": [
    "from sklearn.neural_network import MLPClassifier\n",
    "from sklearn.svm import SVC\n",
    "from sklearn.model_selection import train_test_split\n",
    "from sklearn.preprocessing import StandardScaler\n",
    "from sklearn.metrics import accuracy_score\n",
    "import matplotlib.pyplot as plt\n",
    "import h5py\n",
    "import numpy as np"
   ]
  },
  {
   "cell_type": "markdown",
   "id": "2c5e2fa9",
   "metadata": {},
   "source": [
    "### Завантаження набору даних"
   ]
  },
  {
   "cell_type": "code",
   "execution_count": 6,
   "id": "31c22b2c",
   "metadata": {},
   "outputs": [],
   "source": [
    "def load_dataset():\n",
    "    with h5py.File(\"train_catvnoncat.h5\", \"r\") as train_dataset:\n",
    "        X = np.array(train_dataset[\"train_set_x\"][:])\n",
    "        y = np.array(train_dataset[\"train_set_y\"][:])\n",
    "    return X, y\n",
    "\n",
    "X, y = load_dataset()"
   ]
  },
  {
   "cell_type": "markdown",
   "id": "c3990822",
   "metadata": {},
   "source": [
    "### Попередня обробка"
   ]
  },
  {
   "cell_type": "code",
   "execution_count": 7,
   "id": "540dcd95",
   "metadata": {},
   "outputs": [],
   "source": [
    "X = X.reshape(X.shape[0], -1) / 255.0\n",
    "scaler = StandardScaler()\n",
    "X = scaler.fit_transform(X)\n",
    "X_train, X_test, y_train, y_test = train_test_split(X, y, test_size=0.2, random_state=42)"
   ]
  },
  {
   "cell_type": "markdown",
   "id": "b388d472",
   "metadata": {},
   "source": [
    "### Функція для тренування і тестування моделей"
   ]
  },
  {
   "cell_type": "code",
   "execution_count": 8,
   "id": "15b5fc40",
   "metadata": {},
   "outputs": [],
   "source": [
    "def evaluate_models(models, X_train, X_test, y_train, y_test):\n",
    "    results = []\n",
    "    for model in models:\n",
    "        model.fit(X_train, y_train)\n",
    "        train_acc = accuracy_score(y_train, model.predict(X_train))\n",
    "        test_acc = accuracy_score(y_test, model.predict(X_test))\n",
    "        results.append((model.activation, train_acc, test_acc))\n",
    "    return results"
   ]
  },
  {
   "cell_type": "markdown",
   "id": "78935361",
   "metadata": {},
   "source": [
    "### Додавання регуляризації «alpha»"
   ]
  },
  {
   "cell_type": "code",
   "execution_count": 9,
   "id": "9aee4a1e",
   "metadata": {},
   "outputs": [],
   "source": [
    "regularization_alpha = 0.001"
   ]
  },
  {
   "cell_type": "markdown",
   "id": "4479d526",
   "metadata": {},
   "source": [
    "### 1-шарова нейромережа"
   ]
  },
  {
   "cell_type": "code",
   "execution_count": 10,
   "id": "33df04ca",
   "metadata": {},
   "outputs": [],
   "source": [
    "model_1layer = MLPClassifier(\n",
    "    hidden_layer_sizes=(100,), activation='relu',\n",
    "    solver='sgd', max_iter=500, random_state=42,\n",
    "    alpha=regularization_alpha\n",
    ")\n",
    "model_1layer.fit(X_train, y_train)\n",
    "acc1_train = model_1layer.score(X_train, y_train)\n",
    "acc1_test = model_1layer.score(X_test, y_test)"
   ]
  },
  {
   "cell_type": "markdown",
   "id": "25252bed",
   "metadata": {},
   "source": [
    "### 2-шарова нейромережа"
   ]
  },
  {
   "cell_type": "code",
   "execution_count": 11,
   "id": "945640c6",
   "metadata": {},
   "outputs": [],
   "source": [
    "activations_2 = ['identity', 'relu']\n",
    "models_2layer = [\n",
    "    MLPClassifier(\n",
    "        hidden_layer_sizes=(3, 3), activation=act,\n",
    "        solver='sgd', max_iter=500, random_state=42,\n",
    "        alpha=regularization_alpha\n",
    "    )\n",
    "    for act in activations_2\n",
    "]\n",
    "results_2layer = evaluate_models(models_2layer, X_train, X_test, y_train, y_test)"
   ]
  },
  {
   "cell_type": "markdown",
   "id": "19cff607",
   "metadata": {},
   "source": [
    "### 3-шарова нейромережа"
   ]
  },
  {
   "cell_type": "code",
   "execution_count": 12,
   "id": "2f57cacc",
   "metadata": {},
   "outputs": [
    {
     "name": "stderr",
     "output_type": "stream",
     "text": [
      "/home/negatiw/.local/lib/python3.10/site-packages/sklearn/neural_network/_multilayer_perceptron.py:691: ConvergenceWarning: Stochastic Optimizer: Maximum iterations (500) reached and the optimization hasn't converged yet.\n",
      "  warnings.warn(\n"
     ]
    }
   ],
   "source": [
    "activations_3 = ['identity', 'relu']\n",
    "models_3layer = [\n",
    "    MLPClassifier(\n",
    "        hidden_layer_sizes=(20, 7, 10), activation=act,\n",
    "        solver='sgd', max_iter=500, random_state=42,\n",
    "        alpha=regularization_alpha\n",
    "    )\n",
    "    for act in activations_3\n",
    "]\n",
    "results_3layer = evaluate_models(models_3layer, X_train, X_test, y_train, y_test)"
   ]
  },
  {
   "cell_type": "markdown",
   "id": "97b71c11",
   "metadata": {},
   "source": [
    "### Порівняння з SVM"
   ]
  },
  {
   "cell_type": "code",
   "execution_count": 13,
   "id": "535453a2",
   "metadata": {},
   "outputs": [],
   "source": [
    "svm = SVC(kernel='linear')\n",
    "svm.fit(X_train, y_train)\n",
    "svm_train = svm.score(X_train, y_train)\n",
    "svm_test = svm.score(X_test, y_test)"
   ]
  },
  {
   "cell_type": "markdown",
   "id": "bb6d4ffd",
   "metadata": {},
   "source": [
    "### Виведення результатів"
   ]
  },
  {
   "cell_type": "code",
   "execution_count": 14,
   "id": "42281a59",
   "metadata": {},
   "outputs": [
    {
     "name": "stdout",
     "output_type": "stream",
     "text": [
      "=== 1-шарова мережа ===\n",
      "activation: relu | Train acc: 1.00, Test acc: 0.69\n",
      "\n",
      "=== 2-шарові мережі ===\n",
      "activation: identity | Train acc: 1.00, Test acc: 0.38\n",
      "activation: relu | Train acc: 0.97, Test acc: 0.64\n",
      "\n",
      "=== 3-шарові мережі ===\n",
      "activation: identity | Train acc: 1.00, Test acc: 0.45\n",
      "activation: relu | Train acc: 0.99, Test acc: 0.67\n",
      "\n",
      "=== SVM ===\n",
      "Train acc: 1.00, Test acc: 0.62\n"
     ]
    }
   ],
   "source": [
    "print(\"=== 1-шарова мережа ===\")\n",
    "print(f\"activation: relu | Train acc: {acc1_train:.2f}, Test acc: {acc1_test:.2f}\")\n",
    "\n",
    "print(\"\\n=== 2-шарові мережі ===\")\n",
    "for act, train_acc, test_acc in results_2layer:\n",
    "    print(f\"activation: {act} | Train acc: {train_acc:.2f}, Test acc: {test_acc:.2f}\")\n",
    "\n",
    "print(\"\\n=== 3-шарові мережі ===\")\n",
    "for act, train_acc, test_acc in results_3layer:\n",
    "    print(f\"activation: {act} | Train acc: {train_acc:.2f}, Test acc: {test_acc:.2f}\")\n",
    "\n",
    "print(\"\\n=== SVM ===\")\n",
    "print(f\"Train acc: {svm_train:.2f}, Test acc: {svm_test:.2f}\")"
   ]
  },
  {
   "cell_type": "markdown",
   "id": "0a9b0774",
   "metadata": {},
   "source": [
    "### Побудова графіка"
   ]
  },
  {
   "cell_type": "code",
   "execution_count": 15,
   "id": "9ef741f3",
   "metadata": {},
   "outputs": [
    {
     "data": {
      "image/png": "[encoded data removed]",
      "text/plain": [
       "<Figure size 1000x600 with 1 Axes>"
      ]
     },
     "metadata": {},
     "output_type": "display_data"
    }
   ],
   "source": [
    "labels = ['1-layer relu'] + \\\n",
    "         [f'2-layer {r[0]}' for r in results_2layer] + \\\n",
    "         [f'3-layer {r[0]}' for r in results_3layer] + ['SVM']\n",
    "train_scores = [acc1_train] + [r[1] for r in results_2layer] + [r[1] for r in results_3layer] + [svm_train]\n",
    "test_scores = [acc1_test] + [r[2] for r in results_2layer] + [r[2] for r in results_3layer] + [svm_test]\n",
    "\n",
    "x = np.arange(len(labels))\n",
    "width = 0.35\n",
    "\n",
    "plt.figure(figsize=(10, 6))\n",
    "plt.bar(x - width/2, train_scores, width, label='Train')\n",
    "plt.bar(x + width/2, test_scores, width, label='Test')\n",
    "plt.ylabel('Accuracy')\n",
    "plt.title('Точність моделей нейромереж і SVM')\n",
    "plt.xticks(x, labels, rotation=45)\n",
    "plt.ylim(0, 1)\n",
    "plt.legend()\n",
    "plt.tight_layout()\n",
    "plt.grid(True, linestyle='--', alpha=0.6)\n",
    "plt.show()"
   ]
  }
 ],
 "metadata": {
  "kernelspec": {
   "display_name": "Python 3",
   "language": "python",
   "name": "python3"
  },
  "language_info": {
   "codemirror_mode": {
    "name": "ipython",
    "version": 3
   },
   "file_extension": ".py",
   "mimetype": "text/x-python",
   "name": "python",
   "nbconvert_exporter": "python",
   "pygments_lexer": "ipython3",
   "version": "3.10.12"
  }
 },
 "nbformat": 4,
 "nbformat_minor": 5
}
